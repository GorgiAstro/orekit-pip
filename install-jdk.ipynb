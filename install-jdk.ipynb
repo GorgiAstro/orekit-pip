{
 "cells": [
  {
   "cell_type": "code",
   "execution_count": null,
   "metadata": {},
   "outputs": [],
   "source": [
    "import jdk\n",
    "from pathlib import Path\n",
    "import os\n",
    "\n",
    "def search_jdk_tools_jar(jdk_dir: str):\n",
    "    \"\"\"\n",
    "    Checks that the folder exists and that it contains tools.jar\n",
    "    \"\"\"\n",
    "    if os.path.exists(jdk_dir):\n",
    "        for path in Path(jdk_dir).rglob('*.jar'):\n",
    "            if path.name == 'tools.jar':\n",
    "                return path\n",
    "    return None\n",
    "\n",
    "_USER_DIR = os.path.expanduser(\"~\")\n",
    "jdk_root_dir = os.path.join(_USER_DIR, \".jdk\")\n",
    "\n",
    "def locate_or_download_jdk_tools():\n",
    "    \"\"\"\n",
    "    With search for a JDK folder in $HOME/.jdk containing tools.jar.\n",
    "    If it is not found, it will download JDK 8 in this folder.\n",
    "    :return: str, path to tools.jar if successful, None otherwise.\n",
    "    \"\"\"\n",
    "    jdk_version = '8'\n",
    "\n",
    "    jdk_dir = os.path.join(jdk_root_dir, f'jdk-{jdk_version}')\n",
    "    # Look for tools.jar\n",
    "    tools_jar_path = search_jdk_tools_jar(jdk_dir=jdk_dir)\n",
    "\n",
    "    if tools_jar_path is not None:\n",
    "        print(f'Successfully found {tools_jar_path}')\n",
    "    else:\n",
    "        print(f'the file tools.jar was not found in JDK directory {jdk_dir}, or the JDK directory does not exist yet, downloading')\n",
    "        jdk_dir = jdk.install(jdk_version)\n",
    "        tools_jar_path = search_jdk_tools_jar(jdk_dir=jdk_dir)\n",
    "\n",
    "    if tools_jar_path is None:\n",
    "        print(f'the file tools.jar was still not found in JDK directory {jdk_dir}, exiting')\n",
    "\n",
    "    return tools_jar_path"
   ]
  },
  {
   "cell_type": "code",
   "execution_count": null,
   "metadata": {},
   "outputs": [],
   "source": [
    "locate_or_download_jdk_tools()"
   ]
  },
  {
   "cell_type": "code",
   "execution_count": null,
   "metadata": {},
   "outputs": [],
   "source": []
  }
 ],
 "metadata": {
  "kernelspec": {
   "display_name": "orekit312",
   "language": "python",
   "name": "python3"
  },
  "language_info": {
   "codemirror_mode": {
    "name": "ipython",
    "version": 3
   },
   "file_extension": ".py",
   "mimetype": "text/x-python",
   "name": "python",
   "nbconvert_exporter": "python",
   "pygments_lexer": "ipython3",
   "version": "3.12.0"
  }
 },
 "nbformat": 4,
 "nbformat_minor": 2
}
